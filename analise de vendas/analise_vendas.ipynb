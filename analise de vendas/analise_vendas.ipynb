{
 "cells": [
  {
   "cell_type": "code",
   "execution_count": 3,
   "id": "b73e6ee1",
   "metadata": {},
   "outputs": [],
   "source": [
    "# importando as bibliotecas\n",
    "import pandas as pd\n",
    "import numpy as np \n",
    "import matplotlib.pyplot as plt\n",
    "import seaborn as sns"
   ]
  },
  {
   "cell_type": "code",
   "execution_count": 4,
   "id": "b04d525e",
   "metadata": {},
   "outputs": [
    {
     "data": {
      "text/html": [
       "<div>\n",
       "<style scoped>\n",
       "    .dataframe tbody tr th:only-of-type {\n",
       "        vertical-align: middle;\n",
       "    }\n",
       "\n",
       "    .dataframe tbody tr th {\n",
       "        vertical-align: top;\n",
       "    }\n",
       "\n",
       "    .dataframe thead th {\n",
       "        text-align: right;\n",
       "    }\n",
       "</style>\n",
       "<table border=\"1\" class=\"dataframe\">\n",
       "  <thead>\n",
       "    <tr style=\"text-align: right;\">\n",
       "      <th></th>\n",
       "      <th>Data</th>\n",
       "      <th>Ano</th>\n",
       "      <th>Mês</th>\n",
       "      <th>Vendedor</th>\n",
       "      <th>Cliente</th>\n",
       "      <th>Região</th>\n",
       "      <th>Produto</th>\n",
       "      <th>Valor</th>\n",
       "    </tr>\n",
       "  </thead>\n",
       "  <tbody>\n",
       "    <tr>\n",
       "      <th>0</th>\n",
       "      <td>2019-01-01</td>\n",
       "      <td>2019</td>\n",
       "      <td>jan</td>\n",
       "      <td>Paulo</td>\n",
       "      <td>Thamires Bastos</td>\n",
       "      <td>Sudeste</td>\n",
       "      <td>Python</td>\n",
       "      <td>450</td>\n",
       "    </tr>\n",
       "    <tr>\n",
       "      <th>1</th>\n",
       "      <td>2019-01-01</td>\n",
       "      <td>2019</td>\n",
       "      <td>jan</td>\n",
       "      <td>Paulo</td>\n",
       "      <td>Jessika Mineiro</td>\n",
       "      <td>Centro-Oeste</td>\n",
       "      <td>Excel</td>\n",
       "      <td>500</td>\n",
       "    </tr>\n",
       "    <tr>\n",
       "      <th>2</th>\n",
       "      <td>2019-01-02</td>\n",
       "      <td>2019</td>\n",
       "      <td>jan</td>\n",
       "      <td>Diego</td>\n",
       "      <td>Glenda Jalles</td>\n",
       "      <td>Norte</td>\n",
       "      <td>VBA</td>\n",
       "      <td>600</td>\n",
       "    </tr>\n",
       "    <tr>\n",
       "      <th>3</th>\n",
       "      <td>2019-01-02</td>\n",
       "      <td>2019</td>\n",
       "      <td>jan</td>\n",
       "      <td>Diego</td>\n",
       "      <td>Eugênio Mattos</td>\n",
       "      <td>Sul</td>\n",
       "      <td>Python</td>\n",
       "      <td>450</td>\n",
       "    </tr>\n",
       "    <tr>\n",
       "      <th>4</th>\n",
       "      <td>2019-01-02</td>\n",
       "      <td>2019</td>\n",
       "      <td>jan</td>\n",
       "      <td>Alon</td>\n",
       "      <td>Yasmine Gomes</td>\n",
       "      <td>Norte</td>\n",
       "      <td>VBA</td>\n",
       "      <td>600</td>\n",
       "    </tr>\n",
       "    <tr>\n",
       "      <th>...</th>\n",
       "      <td>...</td>\n",
       "      <td>...</td>\n",
       "      <td>...</td>\n",
       "      <td>...</td>\n",
       "      <td>...</td>\n",
       "      <td>...</td>\n",
       "      <td>...</td>\n",
       "      <td>...</td>\n",
       "    </tr>\n",
       "    <tr>\n",
       "      <th>3664</th>\n",
       "      <td>2021-12-31</td>\n",
       "      <td>2021</td>\n",
       "      <td>dez</td>\n",
       "      <td>Diego</td>\n",
       "      <td>Victória Bastos</td>\n",
       "      <td>Sudeste</td>\n",
       "      <td>Excel</td>\n",
       "      <td>500</td>\n",
       "    </tr>\n",
       "    <tr>\n",
       "      <th>3665</th>\n",
       "      <td>2021-12-31</td>\n",
       "      <td>2021</td>\n",
       "      <td>dez</td>\n",
       "      <td>Alon</td>\n",
       "      <td>Victor Paulo</td>\n",
       "      <td>Centro-Oeste</td>\n",
       "      <td>Excel</td>\n",
       "      <td>500</td>\n",
       "    </tr>\n",
       "    <tr>\n",
       "      <th>3666</th>\n",
       "      <td>2021-12-31</td>\n",
       "      <td>2021</td>\n",
       "      <td>dez</td>\n",
       "      <td>João</td>\n",
       "      <td>Andréia Naveiro</td>\n",
       "      <td>Centro-Oeste</td>\n",
       "      <td>Excel</td>\n",
       "      <td>500</td>\n",
       "    </tr>\n",
       "    <tr>\n",
       "      <th>3667</th>\n",
       "      <td>2021-12-31</td>\n",
       "      <td>2021</td>\n",
       "      <td>dez</td>\n",
       "      <td>Diego</td>\n",
       "      <td>Caroll Marques</td>\n",
       "      <td>Norte</td>\n",
       "      <td>Python</td>\n",
       "      <td>450</td>\n",
       "    </tr>\n",
       "    <tr>\n",
       "      <th>3668</th>\n",
       "      <td>2021-12-31</td>\n",
       "      <td>2021</td>\n",
       "      <td>dez</td>\n",
       "      <td>João</td>\n",
       "      <td>Marcelle Chagas</td>\n",
       "      <td>Sudeste</td>\n",
       "      <td>VBA</td>\n",
       "      <td>600</td>\n",
       "    </tr>\n",
       "  </tbody>\n",
       "</table>\n",
       "<p>3669 rows × 8 columns</p>\n",
       "</div>"
      ],
      "text/plain": [
       "           Data   Ano  Mês Vendedor          Cliente        Região Produto  \\\n",
       "0    2019-01-01  2019  jan    Paulo  Thamires Bastos       Sudeste  Python   \n",
       "1    2019-01-01  2019  jan    Paulo  Jessika Mineiro  Centro-Oeste   Excel   \n",
       "2    2019-01-02  2019  jan    Diego    Glenda Jalles         Norte     VBA   \n",
       "3    2019-01-02  2019  jan    Diego   Eugênio Mattos           Sul  Python   \n",
       "4    2019-01-02  2019  jan     Alon    Yasmine Gomes         Norte     VBA   \n",
       "...         ...   ...  ...      ...              ...           ...     ...   \n",
       "3664 2021-12-31  2021  dez    Diego  Victória Bastos       Sudeste   Excel   \n",
       "3665 2021-12-31  2021  dez     Alon     Victor Paulo  Centro-Oeste   Excel   \n",
       "3666 2021-12-31  2021  dez     João  Andréia Naveiro  Centro-Oeste   Excel   \n",
       "3667 2021-12-31  2021  dez    Diego   Caroll Marques         Norte  Python   \n",
       "3668 2021-12-31  2021  dez     João  Marcelle Chagas       Sudeste     VBA   \n",
       "\n",
       "      Valor  \n",
       "0       450  \n",
       "1       500  \n",
       "2       600  \n",
       "3       450  \n",
       "4       600  \n",
       "...     ...  \n",
       "3664    500  \n",
       "3665    500  \n",
       "3666    500  \n",
       "3667    450  \n",
       "3668    600  \n",
       "\n",
       "[3669 rows x 8 columns]"
      ]
     },
     "metadata": {},
     "output_type": "display_data"
    }
   ],
   "source": [
    "# importando o arquivo \n",
    "df = pd.read_excel('vendas-curso.xlsx')\n",
    "\n",
    "# visualizando o arquivo\n",
    "display(df)"
   ]
  },
  {
   "cell_type": "code",
   "execution_count": 5,
   "id": "6ffb24c5",
   "metadata": {},
   "outputs": [
    {
     "name": "stdout",
     "output_type": "stream",
     "text": [
      "<class 'pandas.core.frame.DataFrame'>\n",
      "RangeIndex: 3669 entries, 0 to 3668\n",
      "Data columns (total 8 columns):\n",
      " #   Column    Non-Null Count  Dtype         \n",
      "---  ------    --------------  -----         \n",
      " 0   Data      3669 non-null   datetime64[ns]\n",
      " 1   Ano       3669 non-null   int64         \n",
      " 2   Mês       3669 non-null   object        \n",
      " 3   Vendedor  3669 non-null   object        \n",
      " 4   Cliente   3669 non-null   object        \n",
      " 5   Região    3669 non-null   object        \n",
      " 6   Produto   3669 non-null   object        \n",
      " 7   Valor     3669 non-null   int64         \n",
      "dtypes: datetime64[ns](1), int64(2), object(5)\n",
      "memory usage: 229.4+ KB\n"
     ]
    }
   ],
   "source": [
    "# verifica df com info()\n",
    "df.info()"
   ]
  },
  {
   "cell_type": "code",
   "execution_count": 18,
   "id": "8d35c542",
   "metadata": {},
   "outputs": [
    {
     "name": "stdout",
     "output_type": "stream",
     "text": [
      "1º lugar: Gabriel\n",
      "2º lugar: Alon\n",
      "3º lugar: Marcus\n",
      "4º lugar: Paulo\n",
      "5º lugar: Diego\n",
      "6º lugar: João\n"
     ]
    }
   ],
   "source": [
    "# classificação de vendedores\n",
    "\n",
    "# Agrupar as vendas por vendedor e calcular a soma das vendas\n",
    "vendas_por_vendedor = df.groupby('Vendedor')['Valor'].sum()\n",
    "\n",
    "# Ordenar por valor de vendas em ordem decrescente\n",
    "vendas_por_vendedor = vendas_por_vendedor.sort_values(ascending=False)\n",
    "\n",
    "# Pegar os 6 vendedores com as maiores vendas\n",
    "vendedores_top = vendas_por_vendedor.index[:6]\n",
    "\n",
    "# Mostrar os nomes dos vendedores com as maiores vendas\n",
    "for i in range(6):\n",
    "    print(f\"{i+1}º lugar: {vendedores_top[i]}\")"
   ]
  },
  {
   "cell_type": "code",
   "execution_count": 19,
   "id": "c1edfe4d",
   "metadata": {},
   "outputs": [
    {
     "name": "stdout",
     "output_type": "stream",
     "text": [
      "1º lugar: VBA\n",
      "2º lugar: Excel\n",
      "3º lugar: Python\n",
      "4º lugar: Word\n",
      "5º lugar: Power BI\n",
      "6º lugar: PowerPoint\n"
     ]
    }
   ],
   "source": [
    "# classificação de vendas de produto\n",
    "\n",
    "# Agrupar os produtos por valor e calcular a soma das vendas\n",
    "vendas_por_produto = df.groupby('Produto')['Valor'].sum()\n",
    "\n",
    "# Ordenar por valor de vendas em ordem decrescente\n",
    "vendas_por_produto = vendas_por_produto.sort_values(ascending=False)\n",
    "\n",
    "# Pegar os 3 vendedores com as maiores vendas\n",
    "produto_top = vendas_por_produto.index[:6]\n",
    "\n",
    "# Mostrar os nomes dos vendedores com as maiores vendas\n",
    "for i in range(6):\n",
    "    print(f\"{i+1}º lugar: {produto_top[i]}\")"
   ]
  },
  {
   "cell_type": "code",
   "execution_count": 20,
   "id": "7c49f59f",
   "metadata": {},
   "outputs": [
    {
     "name": "stdout",
     "output_type": "stream",
     "text": [
      "1º lugar: Sudeste\n",
      "2º lugar: Norte\n",
      "3º lugar: Nordeste\n",
      "4º lugar: Centro-Oeste\n",
      "5º lugar: Sul\n"
     ]
    }
   ],
   "source": [
    "# classificação de vendas por região \n",
    "\n",
    "# agupar as vendas por região e calculando a soma das vendas\n",
    "vendas_por_regiao = df.groupby('Região')['Valor'].sum()\n",
    "\n",
    "# Ordenar por valor de vendas em ordem decrescente\n",
    "vendas_por_regiao = vendas_por_regiao.sort_values(ascending=False)\n",
    "\n",
    "# Pegar os 3 vendedores com as maiores vendas\n",
    "regiao_top = vendas_por_regiao.index[:5]\n",
    "\n",
    "# Mostrar os nomes dos vendedores com as maiores vendas\n",
    "for i in range(5):\n",
    "    print(f\"{i+1}º lugar: {regiao_top[i]}\")"
   ]
  },
  {
   "cell_type": "code",
   "execution_count": 29,
   "id": "4a92efe6",
   "metadata": {},
   "outputs": [
    {
     "data": {
      "image/png": "[encoded data removed]",
      "text/plain": [
       "<Figure size 640x480 with 1 Axes>"
      ]
     },
     "metadata": {},
     "output_type": "display_data"
    }
   ],
   "source": [
    "# grafico da coluna vendedor\n",
    "grafico = sns.countplot(x=df['Vendedor'])\n",
    "plt.show()"
   ]
  },
  {
   "cell_type": "code",
   "execution_count": 34,
   "id": "cc590373",
   "metadata": {},
   "outputs": [
    {
     "data": {
      "image/png": "[encoded data removed]",
      "text/plain": [
       "<Figure size 640x480 with 1 Axes>"
      ]
     },
     "metadata": {},
     "output_type": "display_data"
    }
   ],
   "source": [
    "# gafico da coluna produto\n",
    "grafico = sns.countplot(x=df['Produto'])"
   ]
  },
  {
   "cell_type": "code",
   "execution_count": 43,
   "id": "b6a6dddf",
   "metadata": {},
   "outputs": [
    {
     "data": {
      "image/png": "[encoded data removed]",
      "text/plain": [
       "<Figure size 640x480 with 1 Axes>"
      ]
     },
     "metadata": {},
     "output_type": "display_data"
    }
   ],
   "source": [
    "# grafico das colunas estado e valor \n",
    "grafico = sns.countplot(x=df['Região'])"
   ]
  }
 ],
 "metadata": {
  "kernelspec": {
   "display_name": "Python 3 (ipykernel)",
   "language": "python",
   "name": "python3"
  },
  "language_info": {
   "codemirror_mode": {
    "name": "ipython",
    "version": 3
   },
   "file_extension": ".py",
   "mimetype": "text/x-python",
   "name": "python",
   "nbconvert_exporter": "python",
   "pygments_lexer": "ipython3",
   "version": "3.11.5"
  }
 },
 "nbformat": 4,
 "nbformat_minor": 5
}
